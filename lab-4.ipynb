{
 "cells": [
  {
   "cell_type": "code",
   "execution_count": 36,
   "id": "7375d5a2",
   "metadata": {},
   "outputs": [],
   "source": [
    "import random\n",
    "from math import exp\n",
    "from random import seed"
   ]
  },
  {
   "cell_type": "code",
   "execution_count": 37,
   "id": "79b0c44b",
   "metadata": {},
   "outputs": [],
   "source": [
    "def initialize_network(n_inputs, n_hidden, n_outputs):\n",
    "    network = list()\n",
    "    hidden_layer = [{'weights':[random.uniform(-0.5,0.5) for i in range(n_inputs)]}for i in range(n_hidden)]\n",
    "    network.append(hidden_layer)\n",
    "    output_layer = [{'weights':[random.uniform(-0.5,0.5) for i in range(n_hidden+1)]}for i in range(n_outputs)]\n",
    "    network.append(output_layer)\n",
    "    return network"
   ]
  },
  {
   "cell_type": "code",
   "execution_count": 38,
   "id": "ff1f1617",
   "metadata": {},
   "outputs": [],
   "source": [
    "def activate(weights, inputs):\n",
    "    activation = weights[-1]\n",
    "    for i in range(len(weights)-1):\n",
    "        activation += weights[i]*inputs[i]\n",
    "    return activation"
   ]
  },
  {
   "cell_type": "code",
   "execution_count": 39,
   "id": "60e60222",
   "metadata": {},
   "outputs": [],
   "source": [
    "def transfer(activation):\n",
    "    return 1.0/(1.0 + exp(-activation))"
   ]
  },
  {
   "cell_type": "code",
   "execution_count": 40,
   "id": "92043e99",
   "metadata": {},
   "outputs": [],
   "source": [
    "def forward_propagate(network,row):\n",
    "    inputs = row\n",
    "    for layer in network:\n",
    "        new_inputs = []\n",
    "        for neuron in layer:\n",
    "            activation = activate(neuron['weights'],inputs)\n",
    "            neuron['output'] = transfer(activation)\n",
    "            new_inputs.append(neuron['output'])\n",
    "        inputs = new_inputs\n",
    "    return inputs"
   ]
  },
  {
   "cell_type": "code",
   "execution_count": 41,
   "id": "21e2a1ac",
   "metadata": {},
   "outputs": [],
   "source": [
    "def transfer_derivative(output):\n",
    "    return output*(1.0 - output)"
   ]
  },
  {
   "cell_type": "code",
   "execution_count": 42,
   "id": "2ec0be3c",
   "metadata": {},
   "outputs": [],
   "source": [
    "def backward_propagate_error(network,expected):\n",
    "    for i in reversed(range(len(network))):\n",
    "        layer = network[i]\n",
    "        errors = list()\n",
    "        if i != len(network)-1:\n",
    "            for j in range(len(layer)):\n",
    "                error = 0.0\n",
    "                for neuron in network[i+1]:\n",
    "                    error += (neuron['weights'][j]*neuron['delta'])\n",
    "                    errors.append(error)\n",
    "        else:\n",
    "            for j in range(len(layer)):\n",
    "                neuron = layer[j]\n",
    "                errors.append(expected[j]-neuron['output'])\n",
    "            for j in range(len(layer)):\n",
    "                neuron = layer[j]\n",
    "                neuron['delta']=errors[j]*transfer_derivative(neuron['output'])"
   ]
  },
  {
   "cell_type": "code",
   "execution_count": 43,
   "id": "983deda4",
   "metadata": {},
   "outputs": [],
   "source": [
    "def update_weights(network, row, l_rate):\n",
    "    for i in range(len(network)):\n",
    "        inputs = row[:-1]\n",
    "        if i != 0:\n",
    "            inputs = [neuron['output']for neuron in network[i-1]]\n",
    "            for neuron in network[i]:\n",
    "                for j in range(len(inputs)):\n",
    "                    neuron['weights'][j] += l_rate*neuron['delta']*inputs[j]\n",
    "                    neuron['weights'][-1] += l_rate*neuron['delta']"
   ]
  },
  {
   "cell_type": "code",
   "execution_count": 44,
   "id": "cda50357",
   "metadata": {},
   "outputs": [
    {
     "name": "stdout",
     "output_type": "stream",
     "text": [
      ">epoch = 0,l_rate = 0.500,error = 0.343\n",
      ">epoch = 0,l_rate = 0.500,error = 0.647\n",
      ">epoch = 0,l_rate = 0.500,error = 0.899\n",
      ">epoch = 0,l_rate = 0.500,error = 1.130\n",
      ">epoch = 0,l_rate = 0.500,error = 1.325\n",
      ">epoch = 0,l_rate = 0.500,error = 2.376\n",
      ">epoch = 0,l_rate = 0.500,error = 3.298\n",
      ">epoch = 0,l_rate = 0.500,error = 4.121\n",
      ">epoch = 0,l_rate = 0.500,error = 4.840\n",
      ">epoch = 0,l_rate = 0.500,error = 5.448\n",
      ">epoch = 1,l_rate = 0.500,error = 0.510\n",
      ">epoch = 1,l_rate = 0.500,error = 0.949\n",
      ">epoch = 1,l_rate = 0.500,error = 1.317\n",
      ">epoch = 1,l_rate = 0.500,error = 1.639\n",
      ">epoch = 1,l_rate = 0.500,error = 1.912\n",
      ">epoch = 1,l_rate = 0.500,error = 2.796\n",
      ">epoch = 1,l_rate = 0.500,error = 3.556\n",
      ">epoch = 1,l_rate = 0.500,error = 4.211\n",
      ">epoch = 1,l_rate = 0.500,error = 4.767\n",
      ">epoch = 1,l_rate = 0.500,error = 5.232\n",
      ">epoch = 2,l_rate = 0.500,error = 0.617\n",
      ">epoch = 2,l_rate = 0.500,error = 1.141\n",
      ">epoch = 2,l_rate = 0.500,error = 1.590\n",
      ">epoch = 2,l_rate = 0.500,error = 1.969\n",
      ">epoch = 2,l_rate = 0.500,error = 2.297\n",
      ">epoch = 2,l_rate = 0.500,error = 3.075\n",
      ">epoch = 2,l_rate = 0.500,error = 3.742\n",
      ">epoch = 2,l_rate = 0.500,error = 4.305\n",
      ">epoch = 2,l_rate = 0.500,error = 4.775\n",
      ">epoch = 2,l_rate = 0.500,error = 5.170\n",
      ">epoch = 3,l_rate = 0.500,error = 0.669\n",
      ">epoch = 3,l_rate = 0.500,error = 1.229\n",
      ">epoch = 3,l_rate = 0.500,error = 1.722\n",
      ">epoch = 3,l_rate = 0.500,error = 2.127\n",
      ">epoch = 3,l_rate = 0.500,error = 2.483\n",
      ">epoch = 3,l_rate = 0.500,error = 3.200\n",
      ">epoch = 3,l_rate = 0.500,error = 3.819\n",
      ">epoch = 3,l_rate = 0.500,error = 4.333\n",
      ">epoch = 3,l_rate = 0.500,error = 4.757\n",
      ">epoch = 3,l_rate = 0.500,error = 5.116\n",
      ">epoch = 4,l_rate = 0.500,error = 0.688\n",
      ">epoch = 4,l_rate = 0.500,error = 1.257\n",
      ">epoch = 4,l_rate = 0.500,error = 1.769\n",
      ">epoch = 4,l_rate = 0.500,error = 2.179\n",
      ">epoch = 4,l_rate = 0.500,error = 2.549\n",
      ">epoch = 4,l_rate = 0.500,error = 3.229\n",
      ">epoch = 4,l_rate = 0.500,error = 3.821\n",
      ">epoch = 4,l_rate = 0.500,error = 4.308\n",
      ">epoch = 4,l_rate = 0.500,error = 4.705\n",
      ">epoch = 4,l_rate = 0.500,error = 5.044\n"
     ]
    }
   ],
   "source": [
    "def train_network(network, train, l_rate, n_epoch, n_outputs):\n",
    "    for epoch in range(n_epoch):\n",
    "        sum_error = 0\n",
    "        for row in train:\n",
    "            outputs = forward_propagate(network,row)\n",
    "            expected = [0 for i in range(n_outputs)]\n",
    "            expected[row[-1]]=1\n",
    "            sum_error += sum([(expected[i]-outputs[i])**2 for i in range(len(expected))])\n",
    "            backward_propagate_error(network,expected)\n",
    "            update_weights(network, row, l_rate)\n",
    "            print('>epoch = %d,l_rate = %.3f,error = %.3f'%(epoch, l_rate, sum_error))\n",
    "           \n",
    "seed(1)\n",
    "dataset = [[2.7810836,2.550537003,0],\n",
    "            [1.465489372,2.362125076,0],\n",
    "            [3.39651688,4.400293529,0],\n",
    "            [1.38807019,1.850220317,0],\n",
    "            [3.06407232,3.005305973,0],\n",
    "            [7.6375313214,2.759262235,1],\n",
    "            [5.332441248,2.088626775,1],\n",
    "            [6.922596716,1.77106367,1],\n",
    "            [8.675418651,-0.242068655,1],\n",
    "            [7.673756466,3.508563011,1]]\n",
    "n_inputs = len(dataset[0]) - 1\n",
    "n_outputs = len(set([row[-1]for row in dataset]))\n",
    "network = initialize_network(n_inputs, 2, n_outputs)\n",
    "train_network(network, dataset, 0.5, 5, n_outputs)"
   ]
  },
  {
   "cell_type": "code",
   "execution_count": 45,
   "id": "1de5dc27",
   "metadata": {},
   "outputs": [
    {
     "name": "stdout",
     "output_type": "stream",
     "text": [
      "\n",
      " Layer[1] Node[1]:\n",
      " {'weights': [-0.3656357558875988, 0.3474337369372327], 'output': 0.07882890765571784}\n",
      "\n",
      " Layer[1] Node[2]:\n",
      " {'weights': [0.26377461897661403, -0.2449309742605783], 'output': 0.8555994394500668}\n",
      "\n",
      " Layer[1] Node[1]:\n",
      " {'weights': [0.3729382972383279, -0.51195296032156, -0.13198419336257208], 'output': 0.39900516505236183, 'delta': -0.09568145586202591}\n",
      "\n",
      " Layer[1] Node[2]:\n",
      " {'weights': [-0.0383195052210772, 0.2191778560091933, 0.26345751888068775], 'output': 0.5759499186140951, 'delta': 0.10356643403920894}\n"
     ]
    }
   ],
   "source": [
    "i = 1\n",
    "for layer in network:\n",
    "    j =1\n",
    "    for sub in layer:\n",
    "        print(\"\\n Layer[%d] Node[%d]:\\n\" %(i,j),sub)\n",
    "        j = j+1\n",
    "i = i+1"
   ]
  },
  {
   "cell_type": "code",
   "execution_count": null,
   "id": "e4ba3e2b",
   "metadata": {},
   "outputs": [],
   "source": []
  }
 ],
 "metadata": {
  "kernelspec": {
   "display_name": "Python 3 (ipykernel)",
   "language": "python",
   "name": "python3"
  },
  "language_info": {
   "codemirror_mode": {
    "name": "ipython",
    "version": 3
   },
   "file_extension": ".py",
   "mimetype": "text/x-python",
   "name": "python",
   "nbconvert_exporter": "python",
   "pygments_lexer": "ipython3",
   "version": "3.11.5"
  }
 },
 "nbformat": 4,
 "nbformat_minor": 5
}
